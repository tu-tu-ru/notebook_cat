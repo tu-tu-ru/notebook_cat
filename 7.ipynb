{
 "cells": [
  {
   "cell_type": "markdown",
   "metadata": {
    "id": "8ACF708841594B65B4EDFA02BAB80D39"
   },
   "source": [
    "## DEMO 1"
   ]
  },
  {
   "cell_type": "markdown",
   "metadata": {
    "id": "166DD94E263242369C20B34638F19952"
   },
   "source": [
    "# 1. Traceback"
   ]
  },
  {
   "cell_type": "code",
   "execution_count": null,
   "metadata": {
    "id": "7E9DE3E1E2B146998B2DAAAD5E5D4D9F"
   },
   "outputs": [],
   "source": [
    "int('a')"
   ]
  }
 ],
 "metadata": {
  "kernelspec": {
   "display_name": "Python 3",
   "language": "python",
   "name": "python3"
  },
  "language_info": {
   "codemirror_mode": {
    "name": "ipython",
    "version": 3
   },
   "file_extension": ".py",
   "mimetype": "text/x-python",
   "name": "python",
   "nbconvert_exporter": "python",
   "pygments_lexer": "ipython3",
   "version": "3.6.5"
  }
 },
 "nbformat": 4,
 "nbformat_minor": 2
}
